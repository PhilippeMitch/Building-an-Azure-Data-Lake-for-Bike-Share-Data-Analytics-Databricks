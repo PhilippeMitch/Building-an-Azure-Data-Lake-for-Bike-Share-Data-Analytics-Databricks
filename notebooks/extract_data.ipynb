{
 "cells": [
  {
   "cell_type": "markdown",
   "metadata": {
    "application/vnd.databricks.v1+cell": {
     "cellMetadata": {},
     "inputWidgets": {},
     "nuid": "08ffceec-6c7a-4a52-9794-5316f3769c84",
     "showTitle": false,
     "title": ""
    }
   },
   "source": [
    "Extract data"
   ]
  },
  {
   "cell_type": "markdown",
   "metadata": {
    "application/vnd.databricks.v1+cell": {
     "cellMetadata": {},
     "inputWidgets": {},
     "nuid": "13c43b9b-ca43-4213-95dd-417ee14272e5",
     "showTitle": false,
     "title": ""
    }
   },
   "source": [
    "## Extract data\n",
    "In this notebook we extracted the information from CSV files that we stored in Databricks and write it out to the Delta file system."
   ]
  },
  {
   "cell_type": "markdown",
   "metadata": {
    "application/vnd.databricks.v1+cell": {
     "cellMetadata": {},
     "inputWidgets": {},
     "nuid": "085583a5-6008-4f7e-8fd5-c39d731ffc84",
     "showTitle": false,
     "title": ""
    }
   },
   "source": [
    "#### Riders"
   ]
  },
  {
   "cell_type": "code",
   "execution_count": 0,
   "metadata": {
    "application/vnd.databricks.v1+cell": {
     "cellMetadata": {
      "byteLimit": 2048000,
      "rowLimit": 10000
     },
     "inputWidgets": {},
     "nuid": "77817e87-f28a-4e41-b538-95a539676450",
     "showTitle": false,
     "title": ""
    }
   },
   "outputs": [
    {
     "output_type": "display_data",
     "data": {
      "text/html": [
       "<style scoped>\n",
       "  .table-result-container {\n",
       "    max-height: 300px;\n",
       "    overflow: auto;\n",
       "  }\n",
       "  table, th, td {\n",
       "    border: 1px solid black;\n",
       "    border-collapse: collapse;\n",
       "  }\n",
       "  th, td {\n",
       "    padding: 5px;\n",
       "  }\n",
       "  th {\n",
       "    text-align: left;\n",
       "  }\n",
       "</style><div class='table-result-container'><table class='table-result'><thead style='background-color: white'><tr><th>path</th><th>name</th><th>size</th><th>modificationTime</th></tr></thead><tbody><tr><td>dbfs:/FileStore/bikeSharing/data/payments.csv</td><td>payments.csv</td><td>57666115</td><td>1687058985000</td></tr><tr><td>dbfs:/FileStore/bikeSharing/data/riders.csv</td><td>riders.csv</td><td>5594949</td><td>1687058944000</td></tr><tr><td>dbfs:/FileStore/bikeSharing/data/stations.csv</td><td>stations.csv</td><td>49552</td><td>1687058944000</td></tr><tr><td>dbfs:/FileStore/bikeSharing/data/trips.csv</td><td>trips.csv</td><td>440125504</td><td>1687059197000</td></tr></tbody></table></div>"
      ]
     },
     "metadata": {
      "application/vnd.databricks.v1+output": {
       "addedWidgets": {},
       "aggData": [],
       "aggError": "",
       "aggOverflow": false,
       "aggSchema": [],
       "aggSeriesLimitReached": false,
       "aggType": "",
       "arguments": {},
       "columnCustomDisplayInfos": {},
       "data": [
        [
         "dbfs:/FileStore/bikeSharing/data/payments.csv",
         "payments.csv",
         57666115,
         1687058985000
        ],
        [
         "dbfs:/FileStore/bikeSharing/data/riders.csv",
         "riders.csv",
         5594949,
         1687058944000
        ],
        [
         "dbfs:/FileStore/bikeSharing/data/stations.csv",
         "stations.csv",
         49552,
         1687058944000
        ],
        [
         "dbfs:/FileStore/bikeSharing/data/trips.csv",
         "trips.csv",
         440125504,
         1687059197000
        ]
       ],
       "datasetInfos": [],
       "dbfsResultPath": null,
       "isJsonSchema": true,
       "metadata": {
        "isDbfsCommandResult": false
       },
       "overflow": false,
       "plotOptions": {
        "customPlotOptions": {},
        "displayType": "table",
        "pivotAggregation": null,
        "pivotColumns": null,
        "xColumns": null,
        "yColumns": null
       },
       "removedWidgets": [],
       "schema": [
        {
         "metadata": "{}",
         "name": "path",
         "type": "\"string\""
        },
        {
         "metadata": "{}",
         "name": "name",
         "type": "\"string\""
        },
        {
         "metadata": "{}",
         "name": "size",
         "type": "\"long\""
        },
        {
         "metadata": "{}",
         "name": "modificationTime",
         "type": "\"long\""
        }
       ],
       "type": "table"
      }
     },
     "output_type": "display_data"
    }
   ],
   "source": [
    "%fs\n",
    "ls dbfs:/FileStore/bikeSharing/data"
   ]
  },
  {
   "cell_type": "code",
   "execution_count": 0,
   "metadata": {
    "application/vnd.databricks.v1+cell": {
     "cellMetadata": {
      "byteLimit": 2048000,
      "rowLimit": 10000
     },
     "inputWidgets": {},
     "nuid": "adf017b3-5710-437a-92f3-550db7f96902",
     "showTitle": false,
     "title": ""
    }
   },
   "outputs": [
    {
     "output_type": "stream",
     "name": "stdout",
     "output_type": "stream",
     "text": [
      "+--------+----------+---------+-------------------+----------+------------------+----------------+---------+\n|rider_id|first_name|last_name|            address|  birthday|account_start_date|account_end_date|is_member|\n+--------+----------+---------+-------------------+----------+------------------+----------------+---------+\n|    1000|     Diana|    Clark|1200 Alyssa Squares|1989-02-13|        2019-04-23|            null|     true|\n|    1001|  Jennifer|    Smith|    397 Diana Ferry|1976-08-10|        2019-11-01|      2020-09-01|     true|\n+--------+----------+---------+-------------------+----------+------------------+----------------+---------+\nonly showing top 2 rows\n\n"
     ]
    }
   ],
   "source": [
    "# Load the riders csv file into a dataframe\n",
    "riders_df = spark.read.option(\"delimiter\", \",\") \\\n",
    "    .option(\"header\", \"false\") \\\n",
    "    .option(\"inferSchema\", \"true\") \\\n",
    "        .csv(\"dbfs:/FileStore/bikeSharing/data/riders.csv\") \\\n",
    "            .toDF(\"rider_id\",\"first_name\",\"last_name\",\"address\", \"birthday\", \"account_start_date\",\"account_end_date\",\"is_member\")\n",
    "riders_df.show(2)"
   ]
  },
  {
   "cell_type": "code",
   "execution_count": 0,
   "metadata": {
    "application/vnd.databricks.v1+cell": {
     "cellMetadata": {
      "byteLimit": 2048000,
      "rowLimit": 10000
     },
     "inputWidgets": {},
     "nuid": "caddff63-750b-4d06-b34a-3f8f0d941781",
     "showTitle": false,
     "title": ""
    }
   },
   "outputs": [
    {
     "output_type": "stream",
     "name": "stdout",
     "output_type": "stream",
     "text": [
      "root\n |-- rider_id: integer (nullable = true)\n |-- first_name: string (nullable = true)\n |-- last_name: string (nullable = true)\n |-- address: string (nullable = true)\n |-- birthday: date (nullable = true)\n |-- account_start_date: date (nullable = true)\n |-- account_end_date: date (nullable = true)\n |-- is_member: boolean (nullable = true)\n\n"
     ]
    }
   ],
   "source": [
    "# Let's display the schema\n",
    "riders_df.printSchema()"
   ]
  },
  {
   "cell_type": "code",
   "execution_count": 0,
   "metadata": {
    "application/vnd.databricks.v1+cell": {
     "cellMetadata": {
      "byteLimit": 2048000,
      "rowLimit": 10000
     },
     "inputWidgets": {},
     "nuid": "4fe9b7c9-5287-4606-98fc-1e4f387a7702",
     "showTitle": false,
     "title": ""
    }
   },
   "outputs": [],
   "source": [
    "# Write out the data into a delta table\n",
    "riders_df.write.mode('overwrite').format(\"delta\").save(\"/delta/byke_sharing/riders\")"
   ]
  },
  {
   "cell_type": "markdown",
   "metadata": {
    "application/vnd.databricks.v1+cell": {
     "cellMetadata": {},
     "inputWidgets": {},
     "nuid": "8fe4ab9d-a0a0-4d9c-9614-8e9652d024f8",
     "showTitle": false,
     "title": ""
    }
   },
   "source": [
    "#### Station"
   ]
  },
  {
   "cell_type": "code",
   "execution_count": 0,
   "metadata": {
    "application/vnd.databricks.v1+cell": {
     "cellMetadata": {
      "byteLimit": 2048000,
      "rowLimit": 10000
     },
     "inputWidgets": {},
     "nuid": "4d9037b0-972e-49f1-ad7d-197e738ce349",
     "showTitle": false,
     "title": ""
    }
   },
   "outputs": [
    {
     "output_type": "stream",
     "name": "stdout",
     "output_type": "stream",
     "text": [
      "+------------+--------------------+-----------------+------------------+\n|  station_id|                name|         latitude|         longitude|\n+------------+--------------------+-----------------+------------------+\n|         525|Glenwood Ave & To...|        42.012701|-87.66605799999999|\n|KA1503000012|  Clark St & Lake St|41.88579466666667|-87.63110066666668|\n+------------+--------------------+-----------------+------------------+\nonly showing top 2 rows\n\n"
     ]
    }
   ],
   "source": [
    "# Load the stations csv file into a dataframe\n",
    "stations_df = spark.read.option(\"delimiter\", \",\") \\\n",
    "    .option(\"header\", \"false\") \\\n",
    "    .option(\"inferSchema\", \"true\") \\\n",
    "        .csv(\"dbfs:/FileStore/bikeSharing/data/stations.csv\") \\\n",
    "            .toDF(\"station_id\",\"name\",\"latitude\",\"longitude\")\n",
    "stations_df.show(2)"
   ]
  },
  {
   "cell_type": "code",
   "execution_count": 0,
   "metadata": {
    "application/vnd.databricks.v1+cell": {
     "cellMetadata": {
      "byteLimit": 2048000,
      "rowLimit": 10000
     },
     "inputWidgets": {},
     "nuid": "4bbd9819-98dc-4401-9198-eb5e6f53809a",
     "showTitle": false,
     "title": ""
    }
   },
   "outputs": [
    {
     "output_type": "stream",
     "name": "stdout",
     "output_type": "stream",
     "text": [
      "root\n |-- station_id: string (nullable = true)\n |-- name: string (nullable = true)\n |-- latitude: double (nullable = true)\n |-- longitude: double (nullable = true)\n\n"
     ]
    }
   ],
   "source": [
    "# display the schema\n",
    "stations_df.printSchema()"
   ]
  },
  {
   "cell_type": "code",
   "execution_count": 0,
   "metadata": {
    "application/vnd.databricks.v1+cell": {
     "cellMetadata": {
      "byteLimit": 2048000,
      "rowLimit": 10000
     },
     "inputWidgets": {},
     "nuid": "ff6b6927-1d00-4c7d-8819-d0295544a461",
     "showTitle": false,
     "title": ""
    }
   },
   "outputs": [],
   "source": [
    "# Write out the data into a delta table\n",
    "stations_df.write.mode('overwrite').format(\"delta\").save(\"/delta/byke_sharing/stations\")"
   ]
  },
  {
   "cell_type": "markdown",
   "metadata": {
    "application/vnd.databricks.v1+cell": {
     "cellMetadata": {},
     "inputWidgets": {},
     "nuid": "318f15fd-da70-4341-8ceb-e75b0cdba6e1",
     "showTitle": false,
     "title": ""
    }
   },
   "source": [
    "#### Payments"
   ]
  },
  {
   "cell_type": "code",
   "execution_count": 0,
   "metadata": {
    "application/vnd.databricks.v1+cell": {
     "cellMetadata": {
      "byteLimit": 2048000,
      "rowLimit": 10000
     },
     "inputWidgets": {},
     "nuid": "aece2b0a-8e9a-4893-84b2-3ce2ca67ea84",
     "showTitle": false,
     "title": ""
    }
   },
   "outputs": [
    {
     "output_type": "stream",
     "name": "stdout",
     "output_type": "stream",
     "text": [
      "+----------+----------+------+--------+\n|payment_id|      date|amount|rider_id|\n+----------+----------+------+--------+\n|         1|2019-05-01|   9.0|    1000|\n|         2|2019-06-01|   9.0|    1000|\n+----------+----------+------+--------+\nonly showing top 2 rows\n\n"
     ]
    }
   ],
   "source": [
    "# Load the payments csv file into a dataframe\n",
    "payments_df = spark.read.option(\"delimiter\", \",\") \\\n",
    "    .option(\"header\", \"false\") \\\n",
    "    .option(\"inferSchema\", \"true\") \\\n",
    "        .csv(\"dbfs:/FileStore/bikeSharing/data/payments.csv\") \\\n",
    "            .toDF(\"payment_id\",\"date\",\"amount\",\"rider_id\")\n",
    "payments_df.show(2)"
   ]
  },
  {
   "cell_type": "code",
   "execution_count": 0,
   "metadata": {
    "application/vnd.databricks.v1+cell": {
     "cellMetadata": {
      "byteLimit": 2048000,
      "rowLimit": 10000
     },
     "inputWidgets": {},
     "nuid": "0b60f993-0ec4-4ece-b5cd-b7deead8f96d",
     "showTitle": false,
     "title": ""
    }
   },
   "outputs": [
    {
     "output_type": "stream",
     "name": "stdout",
     "output_type": "stream",
     "text": [
      "root\n |-- payment_id: integer (nullable = true)\n |-- date: date (nullable = true)\n |-- amount: double (nullable = true)\n |-- rider_id: integer (nullable = true)\n\n"
     ]
    }
   ],
   "source": [
    "# display the schema\n",
    "payments_df.printSchema()"
   ]
  },
  {
   "cell_type": "code",
   "execution_count": 0,
   "metadata": {
    "application/vnd.databricks.v1+cell": {
     "cellMetadata": {
      "byteLimit": 2048000,
      "rowLimit": 10000
     },
     "inputWidgets": {},
     "nuid": "38847e0b-d2bf-4054-9ca5-d09405f10eff",
     "showTitle": false,
     "title": ""
    }
   },
   "outputs": [],
   "source": [
    "# Write out the data into a delta table\n",
    "payments_df.write.mode('overwrite').format(\"delta\").save(\"/delta/byke_sharing/payments\")"
   ]
  },
  {
   "cell_type": "markdown",
   "metadata": {
    "application/vnd.databricks.v1+cell": {
     "cellMetadata": {},
     "inputWidgets": {},
     "nuid": "8e1a3e2e-693f-4684-bd19-4b2dafcbc9d0",
     "showTitle": false,
     "title": ""
    }
   },
   "source": [
    "#### Trips"
   ]
  },
  {
   "cell_type": "code",
   "execution_count": 0,
   "metadata": {
    "application/vnd.databricks.v1+cell": {
     "cellMetadata": {
      "byteLimit": 2048000,
      "rowLimit": 10000
     },
     "inputWidgets": {},
     "nuid": "ca748ebd-35f1-4528-988b-a7ec71d0a994",
     "showTitle": false,
     "title": ""
    }
   },
   "outputs": [
    {
     "output_type": "stream",
     "name": "stdout",
     "output_type": "stream",
     "text": [
      "+----------------+-------------+-------------------+-------------------+----------------+--------------+--------+\n|         trip_id|rideable_type|           start_at|           ended_at|start_station_id|end_station_id|rider_id|\n+----------------+-------------+-------------------+-------------------+----------------+--------------+--------+\n|89E7AA6C29227EFF| classic_bike|2021-02-12 16:14:56|2021-02-12 16:21:43|             525|           660|   71934|\n|0FEFDE2603568365| classic_bike|2021-02-14 17:52:38|2021-02-14 18:12:09|             525|         16806|   47854|\n+----------------+-------------+-------------------+-------------------+----------------+--------------+--------+\nonly showing top 2 rows\n\n"
     ]
    }
   ],
   "source": [
    "# Load the payments csv file into a dataframe\n",
    "trips_df = spark.read.option(\"delimiter\", \",\") \\\n",
    "    .option(\"header\", \"false\") \\\n",
    "    .option(\"inferSchema\", \"true\") \\\n",
    "        .csv(\"dbfs:/FileStore/bikeSharing/data/trips.csv\") \\\n",
    "            .toDF(\"trip_id\",\"rideable_type\",\"start_at\",\"ended_at\", \"start_station_id\", \"end_station_id\", \"rider_id\")\n",
    "trips_df.show(2)"
   ]
  },
  {
   "cell_type": "code",
   "execution_count": 0,
   "metadata": {
    "application/vnd.databricks.v1+cell": {
     "cellMetadata": {
      "byteLimit": 2048000,
      "rowLimit": 10000
     },
     "inputWidgets": {},
     "nuid": "cd87d753-cc11-4c14-8490-6169ce7e4c67",
     "showTitle": false,
     "title": ""
    }
   },
   "outputs": [
    {
     "output_type": "stream",
     "name": "stdout",
     "output_type": "stream",
     "text": [
      "root\n |-- trip_id: string (nullable = true)\n |-- rideable_type: string (nullable = true)\n |-- start_at: timestamp (nullable = true)\n |-- ended_at: timestamp (nullable = true)\n |-- start_station_id: string (nullable = true)\n |-- end_station_id: string (nullable = true)\n |-- rider_id: integer (nullable = true)\n\n"
     ]
    }
   ],
   "source": [
    "# display the schema\n",
    "trips_df.printSchema()"
   ]
  },
  {
   "cell_type": "code",
   "execution_count": 0,
   "metadata": {
    "application/vnd.databricks.v1+cell": {
     "cellMetadata": {
      "byteLimit": 2048000,
      "rowLimit": 10000
     },
     "inputWidgets": {},
     "nuid": "c0c43ffe-295d-4538-93b4-88fc099c296c",
     "showTitle": false,
     "title": ""
    }
   },
   "outputs": [],
   "source": [
    "# Write out the data into a delta table\n",
    "trips_df.write.mode('overwrite').format(\"delta\").save(\"/delta/byke_sharing/trips\")"
   ]
  },
  {
   "cell_type": "code",
   "execution_count": 0,
   "metadata": {
    "application/vnd.databricks.v1+cell": {
     "cellMetadata": {},
     "inputWidgets": {},
     "nuid": "9647fe92-92e8-4595-bb5c-644bc45736e7",
     "showTitle": false,
     "title": ""
    }
   },
   "outputs": [],
   "source": []
  }
 ],
 "metadata": {
  "application/vnd.databricks.v1+notebook": {
   "dashboards": [],
   "language": "python",
   "notebookMetadata": {
    "mostRecentlyExecutedCommandWithImplicitDF": {
     "commandId": 1927122207602519,
     "dataframes": [
      "_sqldf"
     ]
    },
    "pythonIndentUnit": 4
   },
   "notebookName": "extract_data",
   "widgets": {}
  }
 },
 "nbformat": 4,
 "nbformat_minor": 0
}
